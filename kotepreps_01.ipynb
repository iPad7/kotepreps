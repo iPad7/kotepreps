{
 "cells": [
  {
   "cell_type": "markdown",
   "metadata": {},
   "source": [
    "# video player\n",
    "\n",
    "* [video player](https://school.programmers.co.kr/learn/courses/30/lessons/340213)\n",
    "\n",
    "1. to move back to a point 10s before\n",
    ": \"prev\" -> 10s. If current is less than 10s, just move to the very first point(00:00)\n",
    "2. to move forward to a point 10s after\n",
    ": \"next\" -> 10s. If current is less than 10s, just move to the last point(len(video))\n",
    "3. to skip an opening\n",
    ": when op_start <= current <= op_end, auto teleportation to op_end\n",
    "\n",
    "video_len: str\n",
    "\n",
    "pos: str\n",
    "\n",
    "op_start: str\n",
    "\n",
    "op_end: str\n",
    "\n",
    "commands: 1 dimensional str array\n",
    "\n",
    "def(solution): when input done -> return \"mm:ss\"\n"
   ]
  },
  {
   "cell_type": "code",
   "execution_count": null,
   "metadata": {
    "trusted": false
   },
   "outputs": [],
   "source": [
    "def solution(video_len: str, pos: str, op_start:str , op_end:str, commands: iter) -> str:    \n",
    "    for command in commands:\n",
    "        if command == \"next\":\n",
    "            if pos[3] == '5':\n",
    "                pos = f\"{int(pos[:2])+1}:0\"+pos[-1]\n",
    "#             elif gap(video_len, pos) <= 10:\n",
    "#                 pass\n",
    "            else: pos = pos[:3] + str(int(pos[3])+1) + pos[-1]\n",
    "        if command == \"prev\":\n",
    "            if pos[3] == '0':\n",
    "                pos = f\"{int(pos[:2])-1}:5\"+pos[-1]\n",
    "            elif int(pos.replace(\":\",\"\")) <= 10:\n",
    "                pos = \"00:00\"            \n",
    "            else: pos = pos[:3] + str(int(pos[3])-1) + pos[-1]\n",
    "        if command == \"skip\":\n",
    "            if int(op_start.replace(\":\",\"\")) <= int(pos.replace(\":\",\"\")) <= int(op_end.replace(\":\",\"\")):\n",
    "                 pos = op_end\n",
    "            else: pass\n",
    "            \n",
    "\n",
    "    return pos\n",
    "\n",
    "################\n",
    "#    안해 :(    #\n",
    "################"
   ]
  },
  {
   "cell_type": "code",
   "execution_count": null,
   "metadata": {
    "trusted": false
   },
   "outputs": [],
   "source": [
    "# 갈아엎자. 일단 mm:ss를 cumulative seconds로 변환하는 방법 모색\n",
    "\n",
    "# DECODING: mm:ss to integer-type second\n",
    "def encode_time(time: str) -> int:\n",
    "    if type(time) == str and len(time) == 5:\n",
    "            return int(time[:2]) * 60 + int(time[3:])\n",
    "    else: raise ValueError\n",
    "\n",
    "# ENCODING: integer-type second to mm:ss\n",
    "def decode_time(seconds: int) -> str:\n",
    "    if seconds >= 0:\n",
    "        minute = seconds // 60\n",
    "        second = seconds % 60\n",
    "        if minute < 10:\n",
    "            if second < 10:\n",
    "                time = f\"0{minute}:0{second}\"\n",
    "            else: time = f\"0{minute}:{second}\"\n",
    "        else:\n",
    "            if second < 10 :\n",
    "                time = f\"{minute}:0{second}\"\n",
    "            else: time = f\"{minute}:{second}\"\n",
    "        return time\n",
    "    else: raise ValueError\n",
    "\n",
    "# 본격적으로 문제풀이 시작\n",
    "        \n",
    "def solution(video_len: str, pos: str, op_start: str, op_end: str, commands: iter) -> str:\n",
    "    # 디코딩부터\n",
    "    video_len_en = encode_time(video_len); pos_en = encode_time(pos);\n",
    "    op_start_en = encode_time(op_start); op_end_en = encode_time(op_end)\n",
    "    \n",
    "    # 만약 맨 처음 시작지점이 오프닝구간이라면?\n",
    "    if op_start_en <= pos_en <= op_end_en:\n",
    "        pos_en = op_end_en\n",
    "        \n",
    "    # 이제 버튼 딸깍 반복 시작작\n",
    "    for command in commands:\n",
    "        if command == \"next\":\n",
    "            if video_len_en >= pos_en and video_len_en - pos_en < 10:\n",
    "                pos_n = video_len_en\n",
    "            else: pos_en += 10\n",
    "        elif command == \"prev\":\n",
    "            if pos_en >= 10:\n",
    "                pos_en -= 10\n",
    "            else: pos_en = 0\n",
    "        else:   # 이상한 명령어 들어오면?\n",
    "            raise TypeError\n",
    "                \n",
    "        # 이동 한 뒤에 보니까 오프닝구간이라면?\n",
    "        if op_start_en <= pos_en <= op_end_en:\n",
    "            pos_en = op_end_en\n",
    "    \n",
    "    # 인코딩해서 결과 뱉기        \n",
    "    result = decode_time(pos_en)\n",
    "    return result  "
   ]
  },
  {
   "cell_type": "code",
   "execution_count": 2,
   "metadata": {
    "trusted": false
   },
   "outputs": [
    {
     "data": {
      "text/plain": [
       "'13:00'"
      ]
     },
     "execution_count": 2,
     "metadata": {},
     "output_type": "execute_result"
    }
   ],
   "source": [
    "solution(\"34:33\", \"13:00\", \"00:55\", \"02:55\", [\"next\", \"prev\"])"
   ]
  },
  {
   "cell_type": "code",
   "execution_count": 3,
   "metadata": {
    "trusted": false
   },
   "outputs": [
    {
     "data": {
      "text/plain": [
       "'06:55'"
      ]
     },
     "execution_count": 3,
     "metadata": {},
     "output_type": "execute_result"
    }
   ],
   "source": [
    "solution(\"10:55\", \"00:05\", \"00:15\", \"06:55\", [\"prev\", \"next\", \"next\"])"
   ]
  },
  {
   "cell_type": "code",
   "execution_count": null,
   "metadata": {
    "trusted": false
   },
   "outputs": [
    {
     "data": {
      "text/plain": [
       "'04:17'"
      ]
     },
     "execution_count": 4,
     "metadata": {},
     "output_type": "execute_result"
    }
   ],
   "source": [
    "solution(\"07:22\", \"04:05\", \"00:15\", \"04:07\", [\"next\"])"
   ]
  },
  {
   "cell_type": "markdown",
   "metadata": {},
   "source": [
    "일단 초로 바꿔야함. 그래야 포맷팅도 덜하고, 덜 복잡함.\n",
    "\n",
    "**max(pos - 10, 0)**\n",
    "\n",
    "오프닝 관련 부분. 치밀하게 봐야함."
   ]
  },
  {
   "cell_type": "markdown",
   "metadata": {},
   "source": [
    "[WALLET](https://school.programmers.co.kr/learn/courses/30/lessons/340199)"
   ]
  },
  {
   "cell_type": "markdown",
   "metadata": {},
   "source": [
    "While True vs While (conditions)\n",
    "\n",
    "접는 횟수가 많으면 많아질 수록 전자가 더 좋다."
   ]
  },
  {
   "cell_type": "code",
   "execution_count": 46,
   "metadata": {
    "trusted": false
   },
   "outputs": [],
   "source": [
    "def solution(wallet: list, bill: list) -> int:\n",
    "    if len(wallet) != 2 or len(bill) != 2:\n",
    "        raise ValueError\n",
    "    if not 10 <= wallet[0] <= 100 or not 10 <= wallet[1] <= 100:\n",
    "        raise ValueError\n",
    "    if not 10 <= bill[0] <= 2000 or not 10 <= bill[1] <= 2000:\n",
    "        raise ValueError\n",
    "    answer = 0\n",
    "    while max(wallet) < max(bill) or min(wallet) < min(bill):\n",
    "        if bill[0] > bill[1]:\n",
    "            bill[0] //= 2\n",
    "        else: bill[1] //= 2\n",
    "        answer += 1\n",
    "    return answer"
   ]
  },
  {
   "cell_type": "code",
   "execution_count": 52,
   "metadata": {
    "trusted": false
   },
   "outputs": [
    {
     "data": {
      "text/plain": [
       "1"
      ]
     },
     "execution_count": 52,
     "metadata": {},
     "output_type": "execute_result"
    }
   ],
   "source": [
    "solution([30, 15], [26, 17])"
   ]
  },
  {
   "cell_type": "code",
   "execution_count": 53,
   "metadata": {
    "trusted": false
   },
   "outputs": [
    {
     "data": {
      "text/plain": [
       "4"
      ]
     },
     "execution_count": 53,
     "metadata": {},
     "output_type": "execute_result"
    }
   ],
   "source": [
    "solution([50, 50], [100, 241])"
   ]
  },
  {
   "cell_type": "markdown",
   "metadata": {},
   "source": [
    "[sum angle](https://school.programmers.co.kr/learn/courses/30/lessons/340206)"
   ]
  },
  {
   "cell_type": "code",
   "execution_count": 54,
   "metadata": {
    "trusted": false
   },
   "outputs": [],
   "source": [
    "def solution(angle1: int, angle2: int) -> int:\n",
    "    if not 0 <= angle1 <= 5000 or not 0 <= angle2 <= 5000:\n",
    "        raise ValueError\n",
    "    return (angle1 + angle2) % 360"
   ]
  },
  {
   "cell_type": "code",
   "execution_count": 55,
   "metadata": {
    "trusted": false
   },
   "outputs": [
    {
     "data": {
      "text/plain": [
       "45"
      ]
     },
     "execution_count": 55,
     "metadata": {},
     "output_type": "execute_result"
    }
   ],
   "source": [
    "solution(280, 485)"
   ]
  },
  {
   "cell_type": "markdown",
   "metadata": {},
   "source": [
    "[divide_num](https://school.programmers.co.kr/learn/courses/30/lessons/340205)"
   ]
  },
  {
   "cell_type": "code",
   "execution_count": 15,
   "metadata": {
    "trusted": true
   },
   "outputs": [],
   "source": [
    "def format_number(number: int) -> list:\n",
    "    if len(str(number)) % 2 == 0:\n",
    "        result = [int(str(number)[2 * i : 2 * i + 2]) for i in range(len(str(number)) // 2)]\n",
    "    else:\n",
    "        number_first, number_left  = (str(number)[0], str(number)[1:])\n",
    "        result = [int(number_left[2 * i : 2 * i + 2]) for i in range(len(number_left) // 2)]\n",
    "        result.append(number_first)\n",
    "    return result\n",
    "        \n",
    "def solution(number: int) -> int:\n",
    "    if not 10 <= number <= 2_000_000_000:\n",
    "        raise ValueError\n",
    "    number_list = format_number(number)\n",
    "    result = sum(number_list)\n",
    "    return result"
   ]
  },
  {
   "cell_type": "code",
   "execution_count": 16,
   "metadata": {
    "trusted": true
   },
   "outputs": [
    {
     "data": {
      "text/plain": [
       "107"
      ]
     },
     "execution_count": 16,
     "metadata": {},
     "output_type": "execute_result"
    }
   ],
   "source": [
    "solution(4859)"
   ]
  },
  {
   "cell_type": "code",
   "execution_count": 14,
   "metadata": {
    "trusted": true
   },
   "outputs": [
    {
     "data": {
      "text/plain": [
       "29"
      ]
     },
     "execution_count": 14,
     "metadata": {},
     "output_type": "execute_result"
    }
   ],
   "source": [
    "solution(29)"
   ]
  },
  {
   "cell_type": "code",
   "execution_count": 17,
   "metadata": {
    "trusted": true
   },
   "outputs": [
    {
     "data": {
      "text/plain": [
       "150"
      ]
     },
     "execution_count": 17,
     "metadata": {},
     "output_type": "execute_result"
    }
   ],
   "source": [
    "solution(1020304050)"
   ]
  },
  {
   "cell_type": "code",
   "execution_count": null,
   "metadata": {},
   "outputs": [],
   "source": [
    "# DEBUGING\n",
    "\n",
    "number = int(input())\n",
    "\n",
    "answer = 0\n",
    "\n",
    "for i in range(len(str(number))//2+1):      # range(5) ~ constraint \n",
    "    answer += number % 100\n",
    "    number //= 100\n",
    "\n",
    "print(answer)"
   ]
  },
  {
   "cell_type": "markdown",
   "metadata": {},
   "source": [
    "[CPR](https://school.programmers.co.kr/learn/courses/30/lessons/340203)"
   ]
  },
  {
   "cell_type": "code",
   "execution_count": 18,
   "metadata": {
    "trusted": true
   },
   "outputs": [],
   "source": [
    "def solution(cpr: list) -> list:\n",
    "    cpr_dic = {\n",
    "        \"check\" : 1,\n",
    "        \"call\" : 2,\n",
    "        \"pressure\" : 3,\n",
    "        \"respiration\" : 4,\n",
    "        \"repeat\" : 5\n",
    "    }\n",
    "    cpr_list = [cpr_dic.get(i) for i in cpr]\n",
    "    return cpr_list"
   ]
  },
  {
   "cell_type": "code",
   "execution_count": 19,
   "metadata": {
    "trusted": true
   },
   "outputs": [
    {
     "data": {
      "text/plain": [
       "[2, 4, 5, 1, 3]"
      ]
     },
     "execution_count": 19,
     "metadata": {},
     "output_type": "execute_result"
    }
   ],
   "source": [
    "solution([\"call\", \"respiration\", \"repeat\", \"check\", \"pressure\"])"
   ]
  },
  {
   "cell_type": "code",
   "execution_count": 20,
   "metadata": {
    "trusted": true
   },
   "outputs": [
    {
     "data": {
      "text/plain": [
       "[4, 5, 1, 3, 2]"
      ]
     },
     "execution_count": 20,
     "metadata": {},
     "output_type": "execute_result"
    }
   ],
   "source": [
    "solution([\"respiration\", \"repeat\", \"check\", \"pressure\", \"call\"])"
   ]
  },
  {
   "cell_type": "code",
   "execution_count": null,
   "metadata": {},
   "outputs": [],
   "source": [
    "# Filling in the black\n",
    "\n",
    "def solution(cpr):\n",
    "    answer = []\n",
    "    basic_order = [\"check\", \"call\", \"pressure\", \"respiration\", \"repeat\"]\n",
    "    for action in cpr:\n",
    "        for i in range(5):\n",
    "            if action == basic_order[i]:\n",
    "                answer.append(i+1)\n",
    "    return answer"
   ]
  },
  {
   "cell_type": "markdown",
   "metadata": {},
   "source": [
    "**Extra Problem**: [Water_Bottle](https://www.acmicpc.net/problem/1052)"
   ]
  },
  {
   "cell_type": "code",
   "execution_count": null,
   "metadata": {},
   "outputs": [],
   "source": [
    "# n, k = map(int, input().split(\" \"))\n",
    "\n",
    "# answer = 0\n",
    "\n",
    "# while n > k:\n",
    "#     n //= 2"
   ]
  },
  {
   "cell_type": "code",
   "execution_count": 4,
   "metadata": {},
   "outputs": [
    {
     "name": "stdout",
     "output_type": "stream",
     "text": [
      "0b11\n",
      "0b100\n",
      "\n",
      "0b1101\n",
      "0b10000\n",
      "\n",
      "0b11110100001001000000\n",
      "0b11111000000000000000\n",
      "\n"
     ]
    }
   ],
   "source": [
    "# Binary Case?\n",
    "\n",
    "# e.g. I/O 1\n",
    "# 3 1 -> 1\n",
    "print(bin(3))\n",
    "print(bin(4))\n",
    "print()\n",
    "\n",
    "# e.g. I/O 2\n",
    "# 13 2 -> 3\n",
    "print(bin(13))\n",
    "print(bin(16))\n",
    "print()\n",
    "\n",
    "# e.g. I/O 3\n",
    "# 1000000 5 -> 15808\n",
    "print(bin(1000000))\n",
    "print(bin(1015808))\n",
    "print()"
   ]
  },
  {
   "cell_type": "code",
   "execution_count": null,
   "metadata": {},
   "outputs": [],
   "source": [
    "# 2진수로 만들었을 때, 1이 k개 이하(같을 뿐 아니라 작아도 됨)인 수가 될 때까지 더하기. "
   ]
  },
  {
   "cell_type": "code",
   "execution_count": 12,
   "metadata": {},
   "outputs": [
    {
     "name": "stdout",
     "output_type": "stream",
     "text": [
      "15808\n"
     ]
    }
   ],
   "source": [
    "n, k = map(int, input().split(\" \"))\n",
    "\n",
    "purchase_count = 0\n",
    "while str(bin(n)).count(\"1\") > k:\n",
    "    purchase_count += 1\n",
    "    n += 1\n",
    "    # print(purchase_count, n)\n",
    "\n",
    "print(purchase_count)"
   ]
  }
 ],
 "metadata": {
  "kernelspec": {
   "display_name": "base",
   "language": "python",
   "name": "python3"
  },
  "language_info": {
   "codemirror_mode": {
    "name": "ipython",
    "version": 3
   },
   "file_extension": ".py",
   "mimetype": "text/x-python",
   "name": "python",
   "nbconvert_exporter": "python",
   "pygments_lexer": "ipython3",
   "version": "3.12.3"
  }
 },
 "nbformat": 4,
 "nbformat_minor": 2
}
