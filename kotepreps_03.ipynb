{
 "cells": [
  {
   "cell_type": "markdown",
   "id": "5e8f2e07",
   "metadata": {},
   "source": [
    "# 문자열을 정수로 바꾸기\n",
    "\n",
    "https://school.programmers.co.kr/learn/courses/30/lessons/12925"
   ]
  },
  {
   "cell_type": "code",
   "execution_count": 1,
   "id": "26f13f88",
   "metadata": {},
   "outputs": [],
   "source": [
    "def solution(s):\n",
    "    return(int(s))"
   ]
  },
  {
   "cell_type": "code",
   "execution_count": 2,
   "id": "76a87240",
   "metadata": {},
   "outputs": [
    {
     "data": {
      "text/plain": [
       "1234"
      ]
     },
     "execution_count": 2,
     "metadata": {},
     "output_type": "execute_result"
    }
   ],
   "source": [
    "solution(\"1234\")"
   ]
  },
  {
   "cell_type": "code",
   "execution_count": 3,
   "id": "a0076f29",
   "metadata": {},
   "outputs": [
    {
     "data": {
      "text/plain": [
       "-1234"
      ]
     },
     "execution_count": 3,
     "metadata": {},
     "output_type": "execute_result"
    }
   ],
   "source": [
    "solution(\"-1234\")"
   ]
  },
  {
   "cell_type": "markdown",
   "id": "1e255027",
   "metadata": {},
   "source": [
    "# 최댓값과 최솟값\n",
    "\n",
    "https://school.programmers.co.kr/learn/courses/30/lessons/12939"
   ]
  },
  {
   "cell_type": "code",
   "execution_count": 4,
   "id": "b782fae1",
   "metadata": {},
   "outputs": [],
   "source": [
    "def solution(s):\n",
    "    return f\"{min([int(i) for i in s.split(' ')])} {max([int(i) for i in s.split(' ')])}\""
   ]
  },
  {
   "cell_type": "code",
   "execution_count": 5,
   "id": "41abe795",
   "metadata": {},
   "outputs": [
    {
     "data": {
      "text/plain": [
       "'1 4'"
      ]
     },
     "execution_count": 5,
     "metadata": {},
     "output_type": "execute_result"
    }
   ],
   "source": [
    "solution(\"1 2 3 4\")"
   ]
  },
  {
   "cell_type": "code",
   "execution_count": 6,
   "id": "79604b5a",
   "metadata": {},
   "outputs": [
    {
     "data": {
      "text/plain": [
       "'-4 -1'"
      ]
     },
     "execution_count": 6,
     "metadata": {},
     "output_type": "execute_result"
    }
   ],
   "source": [
    "solution(\"-1 -2 -3 -4\")"
   ]
  },
  {
   "cell_type": "code",
   "execution_count": 7,
   "id": "c19b8f27",
   "metadata": {},
   "outputs": [
    {
     "data": {
      "text/plain": [
       "'-1 -1'"
      ]
     },
     "execution_count": 7,
     "metadata": {},
     "output_type": "execute_result"
    }
   ],
   "source": [
    "solution(\"-1 -1\")"
   ]
  },
  {
   "cell_type": "markdown",
   "id": "ca1f44ab",
   "metadata": {},
   "source": [
    "# 피보나치 수\n",
    "\n",
    "https://school.programmers.co.kr/learn/courses/30/lessons/12945"
   ]
  },
  {
   "cell_type": "code",
   "execution_count": 9,
   "id": "1300e752",
   "metadata": {},
   "outputs": [],
   "source": [
    "def solution(n):\n",
    "    f_queue = [0, 0, 1]\n",
    "    for _ in range(n-1):\n",
    "        f_queue.pop(0)\n",
    "        f_queue.append(f_queue[0]+f_queue[1])\n",
    "    return f_queue[-1] % 1234567"
   ]
  },
  {
   "cell_type": "code",
   "execution_count": 10,
   "id": "5d683f0c",
   "metadata": {},
   "outputs": [
    {
     "data": {
      "text/plain": [
       "2"
      ]
     },
     "execution_count": 10,
     "metadata": {},
     "output_type": "execute_result"
    }
   ],
   "source": [
    "solution(3)"
   ]
  },
  {
   "cell_type": "code",
   "execution_count": 11,
   "id": "4cba7ee5",
   "metadata": {},
   "outputs": [
    {
     "data": {
      "text/plain": [
       "5"
      ]
     },
     "execution_count": 11,
     "metadata": {},
     "output_type": "execute_result"
    }
   ],
   "source": [
    "solution(5)"
   ]
  },
  {
   "cell_type": "markdown",
   "id": "a6850a0b",
   "metadata": {},
   "source": [
    "# 혼자서 하는 틱택토\n",
    "\n",
    "https://school.programmers.co.kr/learn/courses/30/lessons/160585"
   ]
  },
  {
   "cell_type": "code",
   "execution_count": 12,
   "id": "d37a1035",
   "metadata": {},
   "outputs": [],
   "source": [
    "def solution(board):\n",
    "    o_cnt = sum(i.count('O') for i in board)\n",
    "    x_cnt = sum(i.count('X') for i in board)\n",
    "    \n",
    "    # Case1. 단순히 순서 헷갈린 경우\n",
    "    if o_cnt - x_cnt > 1 or x_cnt > o_cnt:\n",
    "        return 0\n",
    "    \n",
    "    # Case2. 이제부터 진짜임. 이겼는데 게임 계속 한 경우.\n",
    "    # O가 이겼다면 x 수가 o 수보다 크거나 같으면 에러임\n",
    "    # X가 이겼다면 o 수가 x 수보다 크면 에러임\n",
    "    # 이 경우를, 가로로 이긴 경우, 세로로 이긴 경우, 대각선으로 이긴 경우로 나눠서 생각 ㄱㄱ\n",
    "    if any(set(i) == {'O'} for i in board) and o_cnt <= x_cnt:\n",
    "        return 0\n",
    "    if any(set(i) == {'X'} for i in board) and o_cnt > x_cnt:\n",
    "        return 0\n",
    "    \n",
    "    board_t = [[board[i][0] for i in range(3)], \n",
    "               [board[i][1] for i in range(3)],\n",
    "               [board[i][2] for i in range(3)]]\n",
    "    if any(set(i) == {'O'} for i in board_t) and o_cnt <= x_cnt:\n",
    "        return 0\n",
    "    if any(set(i) == {'X'} for i in board_t) and o_cnt > x_cnt:\n",
    "        return 0\n",
    "    \n",
    "    diagonal_1 = [board[i][i] for i in range(3)]\n",
    "    diagonal_2 = [board[i][-(i+1)] for i in range(3)]\n",
    "    if (set(diagonal_1) == {'O'} or set(diagonal_2) == {'O'}) and o_cnt <= x_cnt:\n",
    "        return 0\n",
    "    if (set(diagonal_1) == {'X'} or set(diagonal_2) == {'X'}) and o_cnt > x_cnt:\n",
    "        return 0\n",
    "    \n",
    "    return 1"
   ]
  },
  {
   "cell_type": "code",
   "execution_count": 13,
   "id": "db4afcf0",
   "metadata": {},
   "outputs": [
    {
     "data": {
      "text/plain": [
       "1"
      ]
     },
     "execution_count": 13,
     "metadata": {},
     "output_type": "execute_result"
    }
   ],
   "source": [
    "solution([\"O.X\", \".O.\", \"..X\"])"
   ]
  },
  {
   "cell_type": "code",
   "execution_count": 14,
   "id": "83c9e5d0",
   "metadata": {},
   "outputs": [
    {
     "data": {
      "text/plain": [
       "0"
      ]
     },
     "execution_count": 14,
     "metadata": {},
     "output_type": "execute_result"
    }
   ],
   "source": [
    "solution([\"OOO\", \"...\", \"XXX\"])"
   ]
  },
  {
   "cell_type": "code",
   "execution_count": 15,
   "id": "96ebabdd",
   "metadata": {},
   "outputs": [
    {
     "data": {
      "text/plain": [
       "0"
      ]
     },
     "execution_count": 15,
     "metadata": {},
     "output_type": "execute_result"
    }
   ],
   "source": [
    "solution([\"...\", \".X.\", \"...\"])"
   ]
  },
  {
   "cell_type": "code",
   "execution_count": 16,
   "id": "6c9b3b54",
   "metadata": {},
   "outputs": [
    {
     "data": {
      "text/plain": [
       "1"
      ]
     },
     "execution_count": 16,
     "metadata": {},
     "output_type": "execute_result"
    }
   ],
   "source": [
    "solution([\"...\", \"...\", \"...\"])"
   ]
  },
  {
   "cell_type": "markdown",
   "id": "8ad5e4de",
   "metadata": {},
   "source": [
    "# 콜라 문제\n",
    "\n",
    "https://school.programmers.co.kr/learn/courses/30/lessons/132267"
   ]
  },
  {
   "cell_type": "code",
   "execution_count": 17,
   "id": "1b3e577b",
   "metadata": {},
   "outputs": [],
   "source": [
    "def solution(a, b, n):\n",
    "    cnt = 0\n",
    "    remainder_cnt = 0\n",
    "    \n",
    "    while bottle := n // a:\n",
    "        remainder = n % a\n",
    "        n = bottle * b\n",
    "        cnt += n\n",
    "        remainder_cnt += remainder\n",
    "        \n",
    "        if n % a + remainder_cnt >= a:\n",
    "            n += remainder_cnt\n",
    "            remainder_cnt = 0\n",
    "            \n",
    "    return cnt"
   ]
  },
  {
   "cell_type": "code",
   "execution_count": 18,
   "id": "d1d5d2d8",
   "metadata": {},
   "outputs": [
    {
     "data": {
      "text/plain": [
       "19"
      ]
     },
     "execution_count": 18,
     "metadata": {},
     "output_type": "execute_result"
    }
   ],
   "source": [
    "solution(2, 1, 20)"
   ]
  },
  {
   "cell_type": "code",
   "execution_count": 19,
   "id": "df17663a",
   "metadata": {},
   "outputs": [
    {
     "data": {
      "text/plain": [
       "9"
      ]
     },
     "execution_count": 19,
     "metadata": {},
     "output_type": "execute_result"
    }
   ],
   "source": [
    "solution(3, 1, 20)"
   ]
  },
  {
   "cell_type": "markdown",
   "id": "bef7375a",
   "metadata": {},
   "source": [
    "# 택배 상자 꺼내기\n",
    "\n",
    "https://school.programmers.co.kr/learn/courses/30/lessons/389478"
   ]
  },
  {
   "cell_type": "markdown",
   "id": "2ba95784",
   "metadata": {},
   "source": []
  }
 ],
 "metadata": {
  "kernelspec": {
   "display_name": "base",
   "language": "python",
   "name": "python3"
  },
  "language_info": {
   "codemirror_mode": {
    "name": "ipython",
    "version": 3
   },
   "file_extension": ".py",
   "mimetype": "text/x-python",
   "name": "python",
   "nbconvert_exporter": "python",
   "pygments_lexer": "ipython3",
   "version": "3.12.3"
  }
 },
 "nbformat": 4,
 "nbformat_minor": 5
}
